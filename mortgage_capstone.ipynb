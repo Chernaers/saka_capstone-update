{
 "cells": [
  {
   "cell_type": "code",
   "execution_count": 1,
   "id": "114a3e5d",
   "metadata": {},
   "outputs": [],
   "source": [
    "import numpy as np\n",
    "import pandas as pd\n",
    "import matplotlib.pyplot as plt\n",
    "import seaborn as sns\n",
    "from bs4 import BeautifulSoup as BS\n",
    "import requests\n",
    "import re\n",
    "import json\n",
    "import pprint \n",
    "import calendar\n",
    "import datetime\n",
    "\n",
    "%matplotlib inline"
   ]
  },
  {
   "cell_type": "code",
   "execution_count": 2,
   "id": "0511eed5",
   "metadata": {},
   "outputs": [],
   "source": [
    "fhfa_data = pd.read_csv('2021_pudb_export_123121.csv')"
   ]
  },
  {
   "cell_type": "code",
   "execution_count": 3,
   "id": "35d9cdf9",
   "metadata": {
    "scrolled": true
   },
   "outputs": [
    {
     "data": {
      "text/html": [
       "<div>\n",
       "<style scoped>\n",
       "    .dataframe tbody tr th:only-of-type {\n",
       "        vertical-align: middle;\n",
       "    }\n",
       "\n",
       "    .dataframe tbody tr th {\n",
       "        vertical-align: top;\n",
       "    }\n",
       "\n",
       "    .dataframe thead th {\n",
       "        text-align: right;\n",
       "    }\n",
       "</style>\n",
       "<table border=\"1\" class=\"dataframe\">\n",
       "  <thead>\n",
       "    <tr style=\"text-align: right;\">\n",
       "      <th></th>\n",
       "      <th>Year</th>\n",
       "      <th>LoanCharacteristicsID</th>\n",
       "      <th>Bank</th>\n",
       "      <th>FIPSStateNumericCode</th>\n",
       "      <th>FIPSCountyCode</th>\n",
       "      <th>CoreBasedStatisticalAreaCode</th>\n",
       "      <th>CensusTractIdentifier</th>\n",
       "      <th>CensusTractMinorityRatioPercent</th>\n",
       "      <th>CensusTractMedFamIncomeAmount</th>\n",
       "      <th>LocalAreaMedianIncomeAmount</th>\n",
       "      <th>...</th>\n",
       "      <th>Borrower1Race3Type</th>\n",
       "      <th>Borrower1Race4Type</th>\n",
       "      <th>Borrower1Race5Type</th>\n",
       "      <th>Borrower2EthnicityType</th>\n",
       "      <th>Borrower2Race2Type</th>\n",
       "      <th>Borrower2Race3Type</th>\n",
       "      <th>Borrower2Race4Type</th>\n",
       "      <th>Borrower2Race5Type</th>\n",
       "      <th>HOEPALoanStatusType</th>\n",
       "      <th>LienPriorityType</th>\n",
       "    </tr>\n",
       "  </thead>\n",
       "  <tbody>\n",
       "    <tr>\n",
       "      <th>0</th>\n",
       "      <td>2021</td>\n",
       "      <td>2585135</td>\n",
       "      <td>Boston</td>\n",
       "      <td>23</td>\n",
       "      <td>5</td>\n",
       "      <td>38860</td>\n",
       "      <td>45.02</td>\n",
       "      <td>6.379</td>\n",
       "      <td>91316</td>\n",
       "      <td>85144</td>\n",
       "      <td>...</td>\n",
       "      <td>7</td>\n",
       "      <td>7</td>\n",
       "      <td>7</td>\n",
       "      <td>3</td>\n",
       "      <td>7</td>\n",
       "      <td>7</td>\n",
       "      <td>7</td>\n",
       "      <td>7</td>\n",
       "      <td>2</td>\n",
       "      <td>1</td>\n",
       "    </tr>\n",
       "    <tr>\n",
       "      <th>1</th>\n",
       "      <td>2021</td>\n",
       "      <td>2585136</td>\n",
       "      <td>Boston</td>\n",
       "      <td>23</td>\n",
       "      <td>5</td>\n",
       "      <td>38860</td>\n",
       "      <td>41.00</td>\n",
       "      <td>3.553</td>\n",
       "      <td>100396</td>\n",
       "      <td>85144</td>\n",
       "      <td>...</td>\n",
       "      <td>7</td>\n",
       "      <td>7</td>\n",
       "      <td>7</td>\n",
       "      <td>5</td>\n",
       "      <td>8</td>\n",
       "      <td>8</td>\n",
       "      <td>8</td>\n",
       "      <td>8</td>\n",
       "      <td>2</td>\n",
       "      <td>1</td>\n",
       "    </tr>\n",
       "    <tr>\n",
       "      <th>2</th>\n",
       "      <td>2021</td>\n",
       "      <td>2585137</td>\n",
       "      <td>Boston</td>\n",
       "      <td>25</td>\n",
       "      <td>27</td>\n",
       "      <td>49340</td>\n",
       "      <td>7011.00</td>\n",
       "      <td>8.537</td>\n",
       "      <td>87500</td>\n",
       "      <td>91102</td>\n",
       "      <td>...</td>\n",
       "      <td>7</td>\n",
       "      <td>7</td>\n",
       "      <td>7</td>\n",
       "      <td>5</td>\n",
       "      <td>8</td>\n",
       "      <td>8</td>\n",
       "      <td>8</td>\n",
       "      <td>8</td>\n",
       "      <td>2</td>\n",
       "      <td>1</td>\n",
       "    </tr>\n",
       "    <tr>\n",
       "      <th>3</th>\n",
       "      <td>2021</td>\n",
       "      <td>2585138</td>\n",
       "      <td>Boston</td>\n",
       "      <td>25</td>\n",
       "      <td>27</td>\n",
       "      <td>49340</td>\n",
       "      <td>7001.00</td>\n",
       "      <td>6.052</td>\n",
       "      <td>114531</td>\n",
       "      <td>91102</td>\n",
       "      <td>...</td>\n",
       "      <td>7</td>\n",
       "      <td>7</td>\n",
       "      <td>7</td>\n",
       "      <td>2</td>\n",
       "      <td>7</td>\n",
       "      <td>7</td>\n",
       "      <td>7</td>\n",
       "      <td>7</td>\n",
       "      <td>2</td>\n",
       "      <td>1</td>\n",
       "    </tr>\n",
       "    <tr>\n",
       "      <th>4</th>\n",
       "      <td>2021</td>\n",
       "      <td>2585139</td>\n",
       "      <td>Boston</td>\n",
       "      <td>25</td>\n",
       "      <td>27</td>\n",
       "      <td>49340</td>\n",
       "      <td>7061.00</td>\n",
       "      <td>3.583</td>\n",
       "      <td>119423</td>\n",
       "      <td>91102</td>\n",
       "      <td>...</td>\n",
       "      <td>7</td>\n",
       "      <td>7</td>\n",
       "      <td>7</td>\n",
       "      <td>5</td>\n",
       "      <td>8</td>\n",
       "      <td>8</td>\n",
       "      <td>8</td>\n",
       "      <td>8</td>\n",
       "      <td>2</td>\n",
       "      <td>1</td>\n",
       "    </tr>\n",
       "  </tbody>\n",
       "</table>\n",
       "<p>5 rows × 56 columns</p>\n",
       "</div>"
      ],
      "text/plain": [
       "   Year  LoanCharacteristicsID    Bank  FIPSStateNumericCode  FIPSCountyCode  \\\n",
       "0  2021                2585135  Boston                    23               5   \n",
       "1  2021                2585136  Boston                    23               5   \n",
       "2  2021                2585137  Boston                    25              27   \n",
       "3  2021                2585138  Boston                    25              27   \n",
       "4  2021                2585139  Boston                    25              27   \n",
       "\n",
       "   CoreBasedStatisticalAreaCode  CensusTractIdentifier  \\\n",
       "0                         38860                  45.02   \n",
       "1                         38860                  41.00   \n",
       "2                         49340                7011.00   \n",
       "3                         49340                7001.00   \n",
       "4                         49340                7061.00   \n",
       "\n",
       "   CensusTractMinorityRatioPercent  CensusTractMedFamIncomeAmount  \\\n",
       "0                            6.379                          91316   \n",
       "1                            3.553                         100396   \n",
       "2                            8.537                          87500   \n",
       "3                            6.052                         114531   \n",
       "4                            3.583                         119423   \n",
       "\n",
       "   LocalAreaMedianIncomeAmount  ...  Borrower1Race3Type  Borrower1Race4Type  \\\n",
       "0                        85144  ...                   7                   7   \n",
       "1                        85144  ...                   7                   7   \n",
       "2                        91102  ...                   7                   7   \n",
       "3                        91102  ...                   7                   7   \n",
       "4                        91102  ...                   7                   7   \n",
       "\n",
       "   Borrower1Race5Type  Borrower2EthnicityType  Borrower2Race2Type  \\\n",
       "0                   7                       3                   7   \n",
       "1                   7                       5                   8   \n",
       "2                   7                       5                   8   \n",
       "3                   7                       2                   7   \n",
       "4                   7                       5                   8   \n",
       "\n",
       "   Borrower2Race3Type  Borrower2Race4Type  Borrower2Race5Type  \\\n",
       "0                   7                   7                   7   \n",
       "1                   8                   8                   8   \n",
       "2                   8                   8                   8   \n",
       "3                   7                   7                   7   \n",
       "4                   8                   8                   8   \n",
       "\n",
       "   HOEPALoanStatusType  LienPriorityType  \n",
       "0                    2                 1  \n",
       "1                    2                 1  \n",
       "2                    2                 1  \n",
       "3                    2                 1  \n",
       "4                    2                 1  \n",
       "\n",
       "[5 rows x 56 columns]"
      ]
     },
     "execution_count": 3,
     "metadata": {},
     "output_type": "execute_result"
    }
   ],
   "source": [
    "fhfa_data.head()"
   ]
  },
  {
   "cell_type": "code",
   "execution_count": 4,
   "id": "52ed8474",
   "metadata": {},
   "outputs": [
    {
     "data": {
      "text/plain": [
       "Index(['Year', 'LoanCharacteristicsID', 'Bank', 'FIPSStateNumericCode',\n",
       "       'FIPSCountyCode', 'CoreBasedStatisticalAreaCode',\n",
       "       'CensusTractIdentifier', 'CensusTractMinorityRatioPercent',\n",
       "       'CensusTractMedFamIncomeAmount', 'LocalAreaMedianIncomeAmount',\n",
       "       'TotalMonthlyIncomeAmount', 'HUDMedianIncomeAmount',\n",
       "       'LoanAcquisitionActualUPBAmt', 'LTVRatioPercent', 'NoteDate',\n",
       "       'LoanAcquisitionDate', 'LoanPurposeType', 'ProductCategoryName',\n",
       "       'MortgageType', 'ScheduledTotalPaymentCount',\n",
       "       'LoanAmortizationMaxTermMonths', 'MortgageLoanSellerInstType',\n",
       "       'BorrowerCount', 'BorrowerFirstTimeHomebuyer', 'Borrower1Race1Type',\n",
       "       'Borrower2Race1Type', 'Borrower1GenderType', 'Borrower2GenderType',\n",
       "       'Borrower1AgeAtApplicationYears', 'Borrower2AgeAtApplicationYears',\n",
       "       'PropertyUsageType', 'PropertyUnitCount', 'NoteRatePercent',\n",
       "       'NoteAmount', 'HousingExpenseRatioPercent',\n",
       "       'TotalDebtExpenseRatioPercent', 'Borrower1CreditScoreValue',\n",
       "       'Borrower2CreditScoreValue', 'PMICoveragePercent',\n",
       "       'EmploymentBorrowerSelfEmployed', 'PropertyType', 'IndexSourceType',\n",
       "       'MarginRatePercent', 'PrepaymentPenaltyExpirationDate',\n",
       "       'Borrower1EthnicityType', 'Borrower1Race2Type', 'Borrower1Race3Type',\n",
       "       'Borrower1Race4Type', 'Borrower1Race5Type', 'Borrower2EthnicityType',\n",
       "       'Borrower2Race2Type', 'Borrower2Race3Type', 'Borrower2Race4Type',\n",
       "       'Borrower2Race5Type', 'HOEPALoanStatusType', 'LienPriorityType'],\n",
       "      dtype='object')"
      ]
     },
     "execution_count": 4,
     "metadata": {},
     "output_type": "execute_result"
    }
   ],
   "source": [
    "fhfa_data.columns"
   ]
  },
  {
   "cell_type": "code",
   "execution_count": 5,
   "id": "bf6008e9",
   "metadata": {},
   "outputs": [],
   "source": [
    "fhfa_data.columns = [col.lower() for col in fhfa_data.columns]"
   ]
  },
  {
   "cell_type": "code",
   "execution_count": 6,
   "id": "104405ba",
   "metadata": {},
   "outputs": [
    {
     "data": {
      "text/plain": [
       "Index(['year', 'loancharacteristicsid', 'bank', 'fipsstatenumericcode',\n",
       "       'fipscountycode', 'corebasedstatisticalareacode',\n",
       "       'censustractidentifier', 'censustractminorityratiopercent',\n",
       "       'censustractmedfamincomeamount', 'localareamedianincomeamount',\n",
       "       'totalmonthlyincomeamount', 'hudmedianincomeamount',\n",
       "       'loanacquisitionactualupbamt', 'ltvratiopercent', 'notedate',\n",
       "       'loanacquisitiondate', 'loanpurposetype', 'productcategoryname',\n",
       "       'mortgagetype', 'scheduledtotalpaymentcount',\n",
       "       'loanamortizationmaxtermmonths', 'mortgageloansellerinsttype',\n",
       "       'borrowercount', 'borrowerfirsttimehomebuyer', 'borrower1race1type',\n",
       "       'borrower2race1type', 'borrower1gendertype', 'borrower2gendertype',\n",
       "       'borrower1ageatapplicationyears', 'borrower2ageatapplicationyears',\n",
       "       'propertyusagetype', 'propertyunitcount', 'noteratepercent',\n",
       "       'noteamount', 'housingexpenseratiopercent',\n",
       "       'totaldebtexpenseratiopercent', 'borrower1creditscorevalue',\n",
       "       'borrower2creditscorevalue', 'pmicoveragepercent',\n",
       "       'employmentborrowerselfemployed', 'propertytype', 'indexsourcetype',\n",
       "       'marginratepercent', 'prepaymentpenaltyexpirationdate',\n",
       "       'borrower1ethnicitytype', 'borrower1race2type', 'borrower1race3type',\n",
       "       'borrower1race4type', 'borrower1race5type', 'borrower2ethnicitytype',\n",
       "       'borrower2race2type', 'borrower2race3type', 'borrower2race4type',\n",
       "       'borrower2race5type', 'hoepaloanstatustype', 'lienprioritytype'],\n",
       "      dtype='object')"
      ]
     },
     "execution_count": 6,
     "metadata": {},
     "output_type": "execute_result"
    }
   ],
   "source": [
    "fhfa_data.columns"
   ]
  },
  {
   "cell_type": "code",
   "execution_count": 7,
   "id": "dd1e28fa",
   "metadata": {},
   "outputs": [
    {
     "data": {
      "text/html": [
       "<div>\n",
       "<style scoped>\n",
       "    .dataframe tbody tr th:only-of-type {\n",
       "        vertical-align: middle;\n",
       "    }\n",
       "\n",
       "    .dataframe tbody tr th {\n",
       "        vertical-align: top;\n",
       "    }\n",
       "\n",
       "    .dataframe thead th {\n",
       "        text-align: right;\n",
       "    }\n",
       "</style>\n",
       "<table border=\"1\" class=\"dataframe\">\n",
       "  <thead>\n",
       "    <tr style=\"text-align: right;\">\n",
       "      <th></th>\n",
       "      <th>year</th>\n",
       "      <th>loancharacteristicsid</th>\n",
       "      <th>bank</th>\n",
       "      <th>fipsstatenumericcode</th>\n",
       "      <th>fipscountycode</th>\n",
       "      <th>corebasedstatisticalareacode</th>\n",
       "      <th>censustractidentifier</th>\n",
       "      <th>censustractminorityratiopercent</th>\n",
       "      <th>censustractmedfamincomeamount</th>\n",
       "      <th>localareamedianincomeamount</th>\n",
       "      <th>...</th>\n",
       "      <th>borrower1race3type</th>\n",
       "      <th>borrower1race4type</th>\n",
       "      <th>borrower1race5type</th>\n",
       "      <th>borrower2ethnicitytype</th>\n",
       "      <th>borrower2race2type</th>\n",
       "      <th>borrower2race3type</th>\n",
       "      <th>borrower2race4type</th>\n",
       "      <th>borrower2race5type</th>\n",
       "      <th>hoepaloanstatustype</th>\n",
       "      <th>lienprioritytype</th>\n",
       "    </tr>\n",
       "  </thead>\n",
       "  <tbody>\n",
       "    <tr>\n",
       "      <th>0</th>\n",
       "      <td>2021</td>\n",
       "      <td>2585135</td>\n",
       "      <td>Boston</td>\n",
       "      <td>23</td>\n",
       "      <td>5</td>\n",
       "      <td>38860</td>\n",
       "      <td>45.02</td>\n",
       "      <td>6.379</td>\n",
       "      <td>91316</td>\n",
       "      <td>85144</td>\n",
       "      <td>...</td>\n",
       "      <td>7</td>\n",
       "      <td>7</td>\n",
       "      <td>7</td>\n",
       "      <td>3</td>\n",
       "      <td>7</td>\n",
       "      <td>7</td>\n",
       "      <td>7</td>\n",
       "      <td>7</td>\n",
       "      <td>2</td>\n",
       "      <td>1</td>\n",
       "    </tr>\n",
       "    <tr>\n",
       "      <th>1</th>\n",
       "      <td>2021</td>\n",
       "      <td>2585136</td>\n",
       "      <td>Boston</td>\n",
       "      <td>23</td>\n",
       "      <td>5</td>\n",
       "      <td>38860</td>\n",
       "      <td>41.00</td>\n",
       "      <td>3.553</td>\n",
       "      <td>100396</td>\n",
       "      <td>85144</td>\n",
       "      <td>...</td>\n",
       "      <td>7</td>\n",
       "      <td>7</td>\n",
       "      <td>7</td>\n",
       "      <td>5</td>\n",
       "      <td>8</td>\n",
       "      <td>8</td>\n",
       "      <td>8</td>\n",
       "      <td>8</td>\n",
       "      <td>2</td>\n",
       "      <td>1</td>\n",
       "    </tr>\n",
       "    <tr>\n",
       "      <th>2</th>\n",
       "      <td>2021</td>\n",
       "      <td>2585137</td>\n",
       "      <td>Boston</td>\n",
       "      <td>25</td>\n",
       "      <td>27</td>\n",
       "      <td>49340</td>\n",
       "      <td>7011.00</td>\n",
       "      <td>8.537</td>\n",
       "      <td>87500</td>\n",
       "      <td>91102</td>\n",
       "      <td>...</td>\n",
       "      <td>7</td>\n",
       "      <td>7</td>\n",
       "      <td>7</td>\n",
       "      <td>5</td>\n",
       "      <td>8</td>\n",
       "      <td>8</td>\n",
       "      <td>8</td>\n",
       "      <td>8</td>\n",
       "      <td>2</td>\n",
       "      <td>1</td>\n",
       "    </tr>\n",
       "    <tr>\n",
       "      <th>3</th>\n",
       "      <td>2021</td>\n",
       "      <td>2585138</td>\n",
       "      <td>Boston</td>\n",
       "      <td>25</td>\n",
       "      <td>27</td>\n",
       "      <td>49340</td>\n",
       "      <td>7001.00</td>\n",
       "      <td>6.052</td>\n",
       "      <td>114531</td>\n",
       "      <td>91102</td>\n",
       "      <td>...</td>\n",
       "      <td>7</td>\n",
       "      <td>7</td>\n",
       "      <td>7</td>\n",
       "      <td>2</td>\n",
       "      <td>7</td>\n",
       "      <td>7</td>\n",
       "      <td>7</td>\n",
       "      <td>7</td>\n",
       "      <td>2</td>\n",
       "      <td>1</td>\n",
       "    </tr>\n",
       "    <tr>\n",
       "      <th>4</th>\n",
       "      <td>2021</td>\n",
       "      <td>2585139</td>\n",
       "      <td>Boston</td>\n",
       "      <td>25</td>\n",
       "      <td>27</td>\n",
       "      <td>49340</td>\n",
       "      <td>7061.00</td>\n",
       "      <td>3.583</td>\n",
       "      <td>119423</td>\n",
       "      <td>91102</td>\n",
       "      <td>...</td>\n",
       "      <td>7</td>\n",
       "      <td>7</td>\n",
       "      <td>7</td>\n",
       "      <td>5</td>\n",
       "      <td>8</td>\n",
       "      <td>8</td>\n",
       "      <td>8</td>\n",
       "      <td>8</td>\n",
       "      <td>2</td>\n",
       "      <td>1</td>\n",
       "    </tr>\n",
       "  </tbody>\n",
       "</table>\n",
       "<p>5 rows × 56 columns</p>\n",
       "</div>"
      ],
      "text/plain": [
       "   year  loancharacteristicsid    bank  fipsstatenumericcode  fipscountycode  \\\n",
       "0  2021                2585135  Boston                    23               5   \n",
       "1  2021                2585136  Boston                    23               5   \n",
       "2  2021                2585137  Boston                    25              27   \n",
       "3  2021                2585138  Boston                    25              27   \n",
       "4  2021                2585139  Boston                    25              27   \n",
       "\n",
       "   corebasedstatisticalareacode  censustractidentifier  \\\n",
       "0                         38860                  45.02   \n",
       "1                         38860                  41.00   \n",
       "2                         49340                7011.00   \n",
       "3                         49340                7001.00   \n",
       "4                         49340                7061.00   \n",
       "\n",
       "   censustractminorityratiopercent  censustractmedfamincomeamount  \\\n",
       "0                            6.379                          91316   \n",
       "1                            3.553                         100396   \n",
       "2                            8.537                          87500   \n",
       "3                            6.052                         114531   \n",
       "4                            3.583                         119423   \n",
       "\n",
       "   localareamedianincomeamount  ...  borrower1race3type  borrower1race4type  \\\n",
       "0                        85144  ...                   7                   7   \n",
       "1                        85144  ...                   7                   7   \n",
       "2                        91102  ...                   7                   7   \n",
       "3                        91102  ...                   7                   7   \n",
       "4                        91102  ...                   7                   7   \n",
       "\n",
       "   borrower1race5type  borrower2ethnicitytype  borrower2race2type  \\\n",
       "0                   7                       3                   7   \n",
       "1                   7                       5                   8   \n",
       "2                   7                       5                   8   \n",
       "3                   7                       2                   7   \n",
       "4                   7                       5                   8   \n",
       "\n",
       "   borrower2race3type  borrower2race4type  borrower2race5type  \\\n",
       "0                   7                   7                   7   \n",
       "1                   8                   8                   8   \n",
       "2                   8                   8                   8   \n",
       "3                   7                   7                   7   \n",
       "4                   8                   8                   8   \n",
       "\n",
       "   hoepaloanstatustype  lienprioritytype  \n",
       "0                    2                 1  \n",
       "1                    2                 1  \n",
       "2                    2                 1  \n",
       "3                    2                 1  \n",
       "4                    2                 1  \n",
       "\n",
       "[5 rows x 56 columns]"
      ]
     },
     "execution_count": 7,
     "metadata": {},
     "output_type": "execute_result"
    }
   ],
   "source": [
    "fhfa_data.head()"
   ]
  },
  {
   "cell_type": "code",
   "execution_count": 8,
   "id": "f0fbaa95",
   "metadata": {},
   "outputs": [],
   "source": [
    "column_names = ['borrower1ethnicitytype', 'borrower1race2type', 'borrower1race3type',\n",
    "                'borrower1race4type', 'borrower1race5type', 'borrower2ethnicitytype',\n",
    "                'borrower2race2type', 'borrower2race3type', 'borrower2race4type',\n",
    "                'borrower2race5type']\n",
    "\n",
    "replace_dict = {1: \"aian\", 2: \"asian\", 3: \"black\", 4: \"nhopi\", 5: \"white\",\n",
    "                6: \"multiple\", 7: \"hispanic\", 8: \"na\", 9: \"unknown\"}\n",
    "\n",
    "fhfa_data[column_names] = fhfa_data[column_names].replace(replace_dict)"
   ]
  },
  {
   "cell_type": "code",
   "execution_count": 9,
   "id": "2a7dd0c3",
   "metadata": {},
   "outputs": [
    {
     "data": {
      "text/html": [
       "<div>\n",
       "<style scoped>\n",
       "    .dataframe tbody tr th:only-of-type {\n",
       "        vertical-align: middle;\n",
       "    }\n",
       "\n",
       "    .dataframe tbody tr th {\n",
       "        vertical-align: top;\n",
       "    }\n",
       "\n",
       "    .dataframe thead th {\n",
       "        text-align: right;\n",
       "    }\n",
       "</style>\n",
       "<table border=\"1\" class=\"dataframe\">\n",
       "  <thead>\n",
       "    <tr style=\"text-align: right;\">\n",
       "      <th></th>\n",
       "      <th>year</th>\n",
       "      <th>loancharacteristicsid</th>\n",
       "      <th>bank</th>\n",
       "      <th>fipsstatenumericcode</th>\n",
       "      <th>fipscountycode</th>\n",
       "      <th>corebasedstatisticalareacode</th>\n",
       "      <th>censustractidentifier</th>\n",
       "      <th>censustractminorityratiopercent</th>\n",
       "      <th>censustractmedfamincomeamount</th>\n",
       "      <th>localareamedianincomeamount</th>\n",
       "      <th>...</th>\n",
       "      <th>borrower1race3type</th>\n",
       "      <th>borrower1race4type</th>\n",
       "      <th>borrower1race5type</th>\n",
       "      <th>borrower2ethnicitytype</th>\n",
       "      <th>borrower2race2type</th>\n",
       "      <th>borrower2race3type</th>\n",
       "      <th>borrower2race4type</th>\n",
       "      <th>borrower2race5type</th>\n",
       "      <th>hoepaloanstatustype</th>\n",
       "      <th>lienprioritytype</th>\n",
       "    </tr>\n",
       "  </thead>\n",
       "  <tbody>\n",
       "    <tr>\n",
       "      <th>0</th>\n",
       "      <td>2021</td>\n",
       "      <td>2585135</td>\n",
       "      <td>Boston</td>\n",
       "      <td>23</td>\n",
       "      <td>5</td>\n",
       "      <td>38860</td>\n",
       "      <td>45.02</td>\n",
       "      <td>6.379</td>\n",
       "      <td>91316</td>\n",
       "      <td>85144</td>\n",
       "      <td>...</td>\n",
       "      <td>hispanic</td>\n",
       "      <td>hispanic</td>\n",
       "      <td>hispanic</td>\n",
       "      <td>black</td>\n",
       "      <td>hispanic</td>\n",
       "      <td>hispanic</td>\n",
       "      <td>hispanic</td>\n",
       "      <td>hispanic</td>\n",
       "      <td>2</td>\n",
       "      <td>1</td>\n",
       "    </tr>\n",
       "    <tr>\n",
       "      <th>1</th>\n",
       "      <td>2021</td>\n",
       "      <td>2585136</td>\n",
       "      <td>Boston</td>\n",
       "      <td>23</td>\n",
       "      <td>5</td>\n",
       "      <td>38860</td>\n",
       "      <td>41.00</td>\n",
       "      <td>3.553</td>\n",
       "      <td>100396</td>\n",
       "      <td>85144</td>\n",
       "      <td>...</td>\n",
       "      <td>hispanic</td>\n",
       "      <td>hispanic</td>\n",
       "      <td>hispanic</td>\n",
       "      <td>white</td>\n",
       "      <td>na</td>\n",
       "      <td>na</td>\n",
       "      <td>na</td>\n",
       "      <td>na</td>\n",
       "      <td>2</td>\n",
       "      <td>1</td>\n",
       "    </tr>\n",
       "    <tr>\n",
       "      <th>2</th>\n",
       "      <td>2021</td>\n",
       "      <td>2585137</td>\n",
       "      <td>Boston</td>\n",
       "      <td>25</td>\n",
       "      <td>27</td>\n",
       "      <td>49340</td>\n",
       "      <td>7011.00</td>\n",
       "      <td>8.537</td>\n",
       "      <td>87500</td>\n",
       "      <td>91102</td>\n",
       "      <td>...</td>\n",
       "      <td>hispanic</td>\n",
       "      <td>hispanic</td>\n",
       "      <td>hispanic</td>\n",
       "      <td>white</td>\n",
       "      <td>na</td>\n",
       "      <td>na</td>\n",
       "      <td>na</td>\n",
       "      <td>na</td>\n",
       "      <td>2</td>\n",
       "      <td>1</td>\n",
       "    </tr>\n",
       "    <tr>\n",
       "      <th>3</th>\n",
       "      <td>2021</td>\n",
       "      <td>2585138</td>\n",
       "      <td>Boston</td>\n",
       "      <td>25</td>\n",
       "      <td>27</td>\n",
       "      <td>49340</td>\n",
       "      <td>7001.00</td>\n",
       "      <td>6.052</td>\n",
       "      <td>114531</td>\n",
       "      <td>91102</td>\n",
       "      <td>...</td>\n",
       "      <td>hispanic</td>\n",
       "      <td>hispanic</td>\n",
       "      <td>hispanic</td>\n",
       "      <td>asian</td>\n",
       "      <td>hispanic</td>\n",
       "      <td>hispanic</td>\n",
       "      <td>hispanic</td>\n",
       "      <td>hispanic</td>\n",
       "      <td>2</td>\n",
       "      <td>1</td>\n",
       "    </tr>\n",
       "    <tr>\n",
       "      <th>4</th>\n",
       "      <td>2021</td>\n",
       "      <td>2585139</td>\n",
       "      <td>Boston</td>\n",
       "      <td>25</td>\n",
       "      <td>27</td>\n",
       "      <td>49340</td>\n",
       "      <td>7061.00</td>\n",
       "      <td>3.583</td>\n",
       "      <td>119423</td>\n",
       "      <td>91102</td>\n",
       "      <td>...</td>\n",
       "      <td>hispanic</td>\n",
       "      <td>hispanic</td>\n",
       "      <td>hispanic</td>\n",
       "      <td>white</td>\n",
       "      <td>na</td>\n",
       "      <td>na</td>\n",
       "      <td>na</td>\n",
       "      <td>na</td>\n",
       "      <td>2</td>\n",
       "      <td>1</td>\n",
       "    </tr>\n",
       "  </tbody>\n",
       "</table>\n",
       "<p>5 rows × 56 columns</p>\n",
       "</div>"
      ],
      "text/plain": [
       "   year  loancharacteristicsid    bank  fipsstatenumericcode  fipscountycode  \\\n",
       "0  2021                2585135  Boston                    23               5   \n",
       "1  2021                2585136  Boston                    23               5   \n",
       "2  2021                2585137  Boston                    25              27   \n",
       "3  2021                2585138  Boston                    25              27   \n",
       "4  2021                2585139  Boston                    25              27   \n",
       "\n",
       "   corebasedstatisticalareacode  censustractidentifier  \\\n",
       "0                         38860                  45.02   \n",
       "1                         38860                  41.00   \n",
       "2                         49340                7011.00   \n",
       "3                         49340                7001.00   \n",
       "4                         49340                7061.00   \n",
       "\n",
       "   censustractminorityratiopercent  censustractmedfamincomeamount  \\\n",
       "0                            6.379                          91316   \n",
       "1                            3.553                         100396   \n",
       "2                            8.537                          87500   \n",
       "3                            6.052                         114531   \n",
       "4                            3.583                         119423   \n",
       "\n",
       "   localareamedianincomeamount  ...  borrower1race3type  borrower1race4type  \\\n",
       "0                        85144  ...            hispanic            hispanic   \n",
       "1                        85144  ...            hispanic            hispanic   \n",
       "2                        91102  ...            hispanic            hispanic   \n",
       "3                        91102  ...            hispanic            hispanic   \n",
       "4                        91102  ...            hispanic            hispanic   \n",
       "\n",
       "   borrower1race5type  borrower2ethnicitytype  borrower2race2type  \\\n",
       "0            hispanic                   black            hispanic   \n",
       "1            hispanic                   white                  na   \n",
       "2            hispanic                   white                  na   \n",
       "3            hispanic                   asian            hispanic   \n",
       "4            hispanic                   white                  na   \n",
       "\n",
       "   borrower2race3type  borrower2race4type  borrower2race5type  \\\n",
       "0            hispanic            hispanic            hispanic   \n",
       "1                  na                  na                  na   \n",
       "2                  na                  na                  na   \n",
       "3            hispanic            hispanic            hispanic   \n",
       "4                  na                  na                  na   \n",
       "\n",
       "   hoepaloanstatustype  lienprioritytype  \n",
       "0                    2                 1  \n",
       "1                    2                 1  \n",
       "2                    2                 1  \n",
       "3                    2                 1  \n",
       "4                    2                 1  \n",
       "\n",
       "[5 rows x 56 columns]"
      ]
     },
     "execution_count": 9,
     "metadata": {},
     "output_type": "execute_result"
    }
   ],
   "source": [
    "fhfa_data.head()"
   ]
  },
  {
   "cell_type": "code",
   "execution_count": 17,
   "id": "a6bec8fa",
   "metadata": {},
   "outputs": [
    {
     "data": {
      "image/png": "[encoded data removed]",
      "text/plain": [
       "<Figure size 640x480 with 1 Axes>"
      ]
     },
     "metadata": {},
     "output_type": "display_data"
    }
   ],
   "source": [
    "fhfa_data['borrower2race3type'].value_counts().head().plot(kind='bar')\n",
    "plt.xticks(rotation=45)\n",
    "plt.show()"
   ]
  },
  {
   "cell_type": "code",
   "execution_count": 14,
   "id": "b91f6750",
   "metadata": {},
   "outputs": [
    {
     "data": {
      "image/png": "[encoded data removed]",
      "text/plain": [
       "<Figure size 640x480 with 1 Axes>"
      ]
     },
     "metadata": {},
     "output_type": "display_data"
    }
   ],
   "source": [
    "bank_counts = fhfa_data['bank'].value_counts()\n",
    "\n",
    "bank_counts.plot(kind='pie', autopct='%1.1f%%', startangle=250)\n",
    "plt.axis('equal')\n",
    "plt.title('Bank Presence')\n",
    "plt.xticks(rotation=45)\n",
    "plt.show()"
   ]
  },
  {
   "cell_type": "code",
   "execution_count": 16,
   "id": "6f4dbc88",
   "metadata": {},
   "outputs": [
    {
     "data": {
      "image/png": "[encoded data removed]",
      "text/plain": [
       "<Figure size 640x480 with 1 Axes>"
      ]
     },
     "metadata": {},
     "output_type": "display_data"
    }
   ],
   "source": [
    "fhfa_data['bank'].value_counts().plot(kind= 'bar')\n",
    "plt.xticks(rotation=45)\n",
    "plt.show()"
   ]
  },
  {
   "cell_type": "code",
   "execution_count": 13,
   "id": "6d0d1716",
   "metadata": {},
   "outputs": [
    {
     "data": {
      "text/plain": [
       "hispanic    56663\n",
       "multiple     7216\n",
       "white          10\n",
       "black           1\n",
       "Name: borrower1race3type, dtype: int64"
      ]
     },
     "execution_count": 13,
     "metadata": {},
     "output_type": "execute_result"
    }
   ],
   "source": [
    "fhfa_data['borrower1race1type].value_counts(dropna = False)"
   ]
  },
  {
   "cell_type": "code",
   "execution_count": 19,
   "id": "90279d52",
   "metadata": {},
   "outputs": [
    {
     "data": {
      "text/html": [
       "<div>\n",
       "<style scoped>\n",
       "    .dataframe tbody tr th:only-of-type {\n",
       "        vertical-align: middle;\n",
       "    }\n",
       "\n",
       "    .dataframe tbody tr th {\n",
       "        vertical-align: top;\n",
       "    }\n",
       "\n",
       "    .dataframe thead th {\n",
       "        text-align: right;\n",
       "    }\n",
       "</style>\n",
       "<table border=\"1\" class=\"dataframe\">\n",
       "  <thead>\n",
       "    <tr style=\"text-align: right;\">\n",
       "      <th></th>\n",
       "      <th>year</th>\n",
       "      <th>loancharacteristicsid</th>\n",
       "      <th>fipsstatenumericcode</th>\n",
       "      <th>fipscountycode</th>\n",
       "      <th>corebasedstatisticalareacode</th>\n",
       "      <th>censustractidentifier</th>\n",
       "      <th>censustractminorityratiopercent</th>\n",
       "      <th>censustractmedfamincomeamount</th>\n",
       "      <th>localareamedianincomeamount</th>\n",
       "      <th>totalmonthlyincomeamount</th>\n",
       "      <th>...</th>\n",
       "      <th>housingexpenseratiopercent</th>\n",
       "      <th>totaldebtexpenseratiopercent</th>\n",
       "      <th>borrower1creditscorevalue</th>\n",
       "      <th>borrower2creditscorevalue</th>\n",
       "      <th>pmicoveragepercent</th>\n",
       "      <th>employmentborrowerselfemployed</th>\n",
       "      <th>indexsourcetype</th>\n",
       "      <th>marginratepercent</th>\n",
       "      <th>hoepaloanstatustype</th>\n",
       "      <th>lienprioritytype</th>\n",
       "    </tr>\n",
       "  </thead>\n",
       "  <tbody>\n",
       "    <tr>\n",
       "      <th>count</th>\n",
       "      <td>63890.0</td>\n",
       "      <td>6.389000e+04</td>\n",
       "      <td>63890.000000</td>\n",
       "      <td>63890.000000</td>\n",
       "      <td>63890.000000</td>\n",
       "      <td>63890.000000</td>\n",
       "      <td>63890.000000</td>\n",
       "      <td>63890.000000</td>\n",
       "      <td>63890.000000</td>\n",
       "      <td>63890.000000</td>\n",
       "      <td>...</td>\n",
       "      <td>63890.000000</td>\n",
       "      <td>63890.000000</td>\n",
       "      <td>63890.000000</td>\n",
       "      <td>63890.000000</td>\n",
       "      <td>63890.000000</td>\n",
       "      <td>63890.000000</td>\n",
       "      <td>63890.0</td>\n",
       "      <td>63890.000000</td>\n",
       "      <td>63890.000000</td>\n",
       "      <td>63890.0</td>\n",
       "    </tr>\n",
       "    <tr>\n",
       "      <th>mean</th>\n",
       "      <td>2021.0</td>\n",
       "      <td>2.626657e+06</td>\n",
       "      <td>30.169432</td>\n",
       "      <td>92.398842</td>\n",
       "      <td>44383.391767</td>\n",
       "      <td>3519.306456</td>\n",
       "      <td>13.702152</td>\n",
       "      <td>84251.561606</td>\n",
       "      <td>75034.526389</td>\n",
       "      <td>9770.325826</td>\n",
       "      <td>...</td>\n",
       "      <td>18.599258</td>\n",
       "      <td>29.687847</td>\n",
       "      <td>4.390202</td>\n",
       "      <td>6.313382</td>\n",
       "      <td>3.606718</td>\n",
       "      <td>0.116012</td>\n",
       "      <td>99.0</td>\n",
       "      <td>8520.669213</td>\n",
       "      <td>2.006496</td>\n",
       "      <td>1.0</td>\n",
       "    </tr>\n",
       "    <tr>\n",
       "      <th>std</th>\n",
       "      <td>0.0</td>\n",
       "      <td>2.864535e+04</td>\n",
       "      <td>14.163276</td>\n",
       "      <td>78.299504</td>\n",
       "      <td>31114.230250</td>\n",
       "      <td>4065.009753</td>\n",
       "      <td>15.551072</td>\n",
       "      <td>28090.094325</td>\n",
       "      <td>11642.076385</td>\n",
       "      <td>8978.051305</td>\n",
       "      <td>...</td>\n",
       "      <td>15.515244</td>\n",
       "      <td>9.619283</td>\n",
       "      <td>0.835068</td>\n",
       "      <td>2.317568</td>\n",
       "      <td>9.097475</td>\n",
       "      <td>0.320242</td>\n",
       "      <td>0.0</td>\n",
       "      <td>3549.163956</td>\n",
       "      <td>0.080528</td>\n",
       "      <td>0.0</td>\n",
       "    </tr>\n",
       "    <tr>\n",
       "      <th>min</th>\n",
       "      <td>2021.0</td>\n",
       "      <td>2.585135e+06</td>\n",
       "      <td>1.000000</td>\n",
       "      <td>1.000000</td>\n",
       "      <td>10100.000000</td>\n",
       "      <td>1.000000</td>\n",
       "      <td>0.000000</td>\n",
       "      <td>0.000000</td>\n",
       "      <td>0.000000</td>\n",
       "      <td>794.000000</td>\n",
       "      <td>...</td>\n",
       "      <td>0.000000</td>\n",
       "      <td>0.000000</td>\n",
       "      <td>1.000000</td>\n",
       "      <td>1.000000</td>\n",
       "      <td>0.000000</td>\n",
       "      <td>0.000000</td>\n",
       "      <td>99.0</td>\n",
       "      <td>0.000000</td>\n",
       "      <td>1.000000</td>\n",
       "      <td>1.0</td>\n",
       "    </tr>\n",
       "    <tr>\n",
       "      <th>25%</th>\n",
       "      <td>2021.0</td>\n",
       "      <td>2.605211e+06</td>\n",
       "      <td>18.000000</td>\n",
       "      <td>37.000000</td>\n",
       "      <td>19820.000000</td>\n",
       "      <td>106.000000</td>\n",
       "      <td>4.000000</td>\n",
       "      <td>65672.000000</td>\n",
       "      <td>67277.000000</td>\n",
       "      <td>5405.250000</td>\n",
       "      <td>...</td>\n",
       "      <td>12.880000</td>\n",
       "      <td>22.400000</td>\n",
       "      <td>4.000000</td>\n",
       "      <td>5.000000</td>\n",
       "      <td>0.000000</td>\n",
       "      <td>0.000000</td>\n",
       "      <td>99.0</td>\n",
       "      <td>9999.000000</td>\n",
       "      <td>2.000000</td>\n",
       "      <td>1.0</td>\n",
       "    </tr>\n",
       "    <tr>\n",
       "      <th>50%</th>\n",
       "      <td>2021.0</td>\n",
       "      <td>2.622994e+06</td>\n",
       "      <td>27.000000</td>\n",
       "      <td>81.000000</td>\n",
       "      <td>33340.000000</td>\n",
       "      <td>803.000000</td>\n",
       "      <td>7.998500</td>\n",
       "      <td>78430.500000</td>\n",
       "      <td>73857.000000</td>\n",
       "      <td>8042.000000</td>\n",
       "      <td>...</td>\n",
       "      <td>17.250000</td>\n",
       "      <td>29.830000</td>\n",
       "      <td>5.000000</td>\n",
       "      <td>5.000000</td>\n",
       "      <td>0.000000</td>\n",
       "      <td>0.000000</td>\n",
       "      <td>99.0</td>\n",
       "      <td>9999.000000</td>\n",
       "      <td>2.000000</td>\n",
       "      <td>1.0</td>\n",
       "    </tr>\n",
       "    <tr>\n",
       "      <th>75%</th>\n",
       "      <td>2021.0</td>\n",
       "      <td>2.639190e+06</td>\n",
       "      <td>41.000000</td>\n",
       "      <td>131.000000</td>\n",
       "      <td>48580.000000</td>\n",
       "      <td>9002.000000</td>\n",
       "      <td>16.998000</td>\n",
       "      <td>97012.000000</td>\n",
       "      <td>80703.000000</td>\n",
       "      <td>11666.000000</td>\n",
       "      <td>...</td>\n",
       "      <td>22.950000</td>\n",
       "      <td>37.150000</td>\n",
       "      <td>5.000000</td>\n",
       "      <td>9.000000</td>\n",
       "      <td>0.000000</td>\n",
       "      <td>0.000000</td>\n",
       "      <td>99.0</td>\n",
       "      <td>9999.000000</td>\n",
       "      <td>2.000000</td>\n",
       "      <td>1.0</td>\n",
       "    </tr>\n",
       "    <tr>\n",
       "      <th>max</th>\n",
       "      <td>2021.0</td>\n",
       "      <td>2.690373e+06</td>\n",
       "      <td>66.000000</td>\n",
       "      <td>840.000000</td>\n",
       "      <td>99999.000000</td>\n",
       "      <td>9902.000000</td>\n",
       "      <td>99.866000</td>\n",
       "      <td>250001.000000</td>\n",
       "      <td>150332.000000</td>\n",
       "      <td>817114.000000</td>\n",
       "      <td>...</td>\n",
       "      <td>999.000000</td>\n",
       "      <td>102.840000</td>\n",
       "      <td>9.000000</td>\n",
       "      <td>9.000000</td>\n",
       "      <td>78.000000</td>\n",
       "      <td>1.000000</td>\n",
       "      <td>99.0</td>\n",
       "      <td>9999.000000</td>\n",
       "      <td>3.000000</td>\n",
       "      <td>1.0</td>\n",
       "    </tr>\n",
       "  </tbody>\n",
       "</table>\n",
       "<p>8 rows × 43 columns</p>\n",
       "</div>"
      ],
      "text/plain": [
       "          year  loancharacteristicsid  fipsstatenumericcode  fipscountycode  \\\n",
       "count  63890.0           6.389000e+04          63890.000000    63890.000000   \n",
       "mean    2021.0           2.626657e+06             30.169432       92.398842   \n",
       "std        0.0           2.864535e+04             14.163276       78.299504   \n",
       "min     2021.0           2.585135e+06              1.000000        1.000000   \n",
       "25%     2021.0           2.605211e+06             18.000000       37.000000   \n",
       "50%     2021.0           2.622994e+06             27.000000       81.000000   \n",
       "75%     2021.0           2.639190e+06             41.000000      131.000000   \n",
       "max     2021.0           2.690373e+06             66.000000      840.000000   \n",
       "\n",
       "       corebasedstatisticalareacode  censustractidentifier  \\\n",
       "count                  63890.000000           63890.000000   \n",
       "mean                   44383.391767            3519.306456   \n",
       "std                    31114.230250            4065.009753   \n",
       "min                    10100.000000               1.000000   \n",
       "25%                    19820.000000             106.000000   \n",
       "50%                    33340.000000             803.000000   \n",
       "75%                    48580.000000            9002.000000   \n",
       "max                    99999.000000            9902.000000   \n",
       "\n",
       "       censustractminorityratiopercent  censustractmedfamincomeamount  \\\n",
       "count                     63890.000000                   63890.000000   \n",
       "mean                         13.702152                   84251.561606   \n",
       "std                          15.551072                   28090.094325   \n",
       "min                           0.000000                       0.000000   \n",
       "25%                           4.000000                   65672.000000   \n",
       "50%                           7.998500                   78430.500000   \n",
       "75%                          16.998000                   97012.000000   \n",
       "max                          99.866000                  250001.000000   \n",
       "\n",
       "       localareamedianincomeamount  totalmonthlyincomeamount  ...  \\\n",
       "count                 63890.000000              63890.000000  ...   \n",
       "mean                  75034.526389               9770.325826  ...   \n",
       "std                   11642.076385               8978.051305  ...   \n",
       "min                       0.000000                794.000000  ...   \n",
       "25%                   67277.000000               5405.250000  ...   \n",
       "50%                   73857.000000               8042.000000  ...   \n",
       "75%                   80703.000000              11666.000000  ...   \n",
       "max                  150332.000000             817114.000000  ...   \n",
       "\n",
       "       housingexpenseratiopercent  totaldebtexpenseratiopercent  \\\n",
       "count                63890.000000                  63890.000000   \n",
       "mean                    18.599258                     29.687847   \n",
       "std                     15.515244                      9.619283   \n",
       "min                      0.000000                      0.000000   \n",
       "25%                     12.880000                     22.400000   \n",
       "50%                     17.250000                     29.830000   \n",
       "75%                     22.950000                     37.150000   \n",
       "max                    999.000000                    102.840000   \n",
       "\n",
       "       borrower1creditscorevalue  borrower2creditscorevalue  \\\n",
       "count               63890.000000               63890.000000   \n",
       "mean                    4.390202                   6.313382   \n",
       "std                     0.835068                   2.317568   \n",
       "min                     1.000000                   1.000000   \n",
       "25%                     4.000000                   5.000000   \n",
       "50%                     5.000000                   5.000000   \n",
       "75%                     5.000000                   9.000000   \n",
       "max                     9.000000                   9.000000   \n",
       "\n",
       "       pmicoveragepercent  employmentborrowerselfemployed  indexsourcetype  \\\n",
       "count        63890.000000                    63890.000000          63890.0   \n",
       "mean             3.606718                        0.116012             99.0   \n",
       "std              9.097475                        0.320242              0.0   \n",
       "min              0.000000                        0.000000             99.0   \n",
       "25%              0.000000                        0.000000             99.0   \n",
       "50%              0.000000                        0.000000             99.0   \n",
       "75%              0.000000                        0.000000             99.0   \n",
       "max             78.000000                        1.000000             99.0   \n",
       "\n",
       "       marginratepercent  hoepaloanstatustype  lienprioritytype  \n",
       "count       63890.000000         63890.000000           63890.0  \n",
       "mean         8520.669213             2.006496               1.0  \n",
       "std          3549.163956             0.080528               0.0  \n",
       "min             0.000000             1.000000               1.0  \n",
       "25%          9999.000000             2.000000               1.0  \n",
       "50%          9999.000000             2.000000               1.0  \n",
       "75%          9999.000000             2.000000               1.0  \n",
       "max          9999.000000             3.000000               1.0  \n",
       "\n",
       "[8 rows x 43 columns]"
      ]
     },
     "execution_count": 19,
     "metadata": {},
     "output_type": "execute_result"
    }
   ],
   "source": [
    "fhfa_data.describe()"
   ]
  },
  {
   "cell_type": "markdown",
   "id": "70ffd038",
   "metadata": {},
   "source": [
    "# Banks in Chicago"
   ]
  },
  {
   "cell_type": "code",
   "execution_count": 20,
   "id": "0178bcd2",
   "metadata": {},
   "outputs": [
    {
     "data": {
      "text/plain": [
       "15438"
      ]
     },
     "execution_count": 20,
     "metadata": {},
     "output_type": "execute_result"
    }
   ],
   "source": [
    "chicago_banks = fhfa_data[fhfa_data['bank'] == 'Chicago']\n",
    "len(chicago_banks)"
   ]
  },
  {
   "cell_type": "code",
   "execution_count": 30,
   "id": "12816c91",
   "metadata": {},
   "outputs": [
    {
     "data": {
      "text/plain": [
       "hispanic    15433\n",
       "white           4\n",
       "black           1\n",
       "Name: borrower1race3type, dtype: int64"
      ]
     },
     "execution_count": 30,
     "metadata": {},
     "output_type": "execute_result"
    }
   ],
   "source": [
    "chicago_banks['borrower1race3type'].value_counts(dropna = False)"
   ]
  },
  {
   "cell_type": "markdown",
   "id": "64278968",
   "metadata": {},
   "source": [
    "# Banks in Topeka "
   ]
  },
  {
   "cell_type": "code",
   "execution_count": 32,
   "id": "046a3d40",
   "metadata": {},
   "outputs": [
    {
     "data": {
      "text/plain": [
       "10666"
      ]
     },
     "execution_count": 32,
     "metadata": {},
     "output_type": "execute_result"
    }
   ],
   "source": [
    "topeka_banks = fhfa_data[fhfa_data['bank'] == 'Topeka']\n",
    "len(topeka_banks)"
   ]
  },
  {
   "cell_type": "code",
   "execution_count": 33,
   "id": "db9303ea",
   "metadata": {},
   "outputs": [
    {
     "data": {
      "text/plain": [
       "hispanic    10664\n",
       "white           2\n",
       "Name: borrower1race3type, dtype: int64"
      ]
     },
     "execution_count": 33,
     "metadata": {},
     "output_type": "execute_result"
    }
   ],
   "source": [
    "topeka_banks['borrower1race3type'].value_counts(dropna = False)"
   ]
  },
  {
   "cell_type": "markdown",
   "id": "eebfd2c2",
   "metadata": {},
   "source": [
    "# Banks in Indianapolis "
   ]
  },
  {
   "cell_type": "code",
   "execution_count": 22,
   "id": "59d520ce",
   "metadata": {},
   "outputs": [
    {
     "data": {
      "text/plain": [
       "9446"
      ]
     },
     "execution_count": 22,
     "metadata": {},
     "output_type": "execute_result"
    }
   ],
   "source": [
    "indianapolis_banks = fhfa_data[fhfa_data['bank'] == 'Indianapolis']\n",
    "len(indianapolis_banks)"
   ]
  },
  {
   "cell_type": "code",
   "execution_count": 34,
   "id": "8fb2a5dc",
   "metadata": {},
   "outputs": [
    {
     "data": {
      "text/plain": [
       "hispanic    9446\n",
       "Name: borrower1race3type, dtype: int64"
      ]
     },
     "execution_count": 34,
     "metadata": {},
     "output_type": "execute_result"
    }
   ],
   "source": [
    "indianapolis_banks['borrower1race3type'].value_counts(dropna = False)"
   ]
  },
  {
   "cell_type": "markdown",
   "id": "3dad2991",
   "metadata": {},
   "source": [
    "# Banks in Des Moines  "
   ]
  },
  {
   "cell_type": "code",
   "execution_count": 36,
   "id": "a9107c40",
   "metadata": {},
   "outputs": [
    {
     "data": {
      "text/plain": [
       "9184"
      ]
     },
     "execution_count": 36,
     "metadata": {},
     "output_type": "execute_result"
    }
   ],
   "source": [
    "des_moines_banks = fhfa_data[fhfa_data['bank'] == 'Des Moines']\n",
    "len(des_moines_banks)"
   ]
  },
  {
   "cell_type": "code",
   "execution_count": 37,
   "id": "b9b20970",
   "metadata": {},
   "outputs": [
    {
     "data": {
      "text/plain": [
       "hispanic    9183\n",
       "white          1\n",
       "Name: borrower1race3type, dtype: int64"
      ]
     },
     "execution_count": 37,
     "metadata": {},
     "output_type": "execute_result"
    }
   ],
   "source": [
    "des_moines_banks['borrower1race3type'].value_counts(dropna = False)"
   ]
  },
  {
   "cell_type": "markdown",
   "id": "5827c296",
   "metadata": {},
   "source": [
    "# Banks in Cincinnati  "
   ]
  },
  {
   "cell_type": "code",
   "execution_count": 24,
   "id": "b03e6a6a",
   "metadata": {},
   "outputs": [
    {
     "data": {
      "text/plain": [
       "7167"
      ]
     },
     "execution_count": 24,
     "metadata": {},
     "output_type": "execute_result"
    }
   ],
   "source": [
    "cincinnati_banks = fhfa_data[fhfa_data['bank'] == 'Cincinnati']\n",
    "len(cincinnati_banks)"
   ]
  },
  {
   "cell_type": "markdown",
   "id": "04c304e1",
   "metadata": {},
   "source": [
    "# Banks in Pittsburgh  "
   ]
  },
  {
   "cell_type": "code",
   "execution_count": 25,
   "id": "3b139c32",
   "metadata": {},
   "outputs": [
    {
     "data": {
      "text/plain": [
       "4912"
      ]
     },
     "execution_count": 25,
     "metadata": {},
     "output_type": "execute_result"
    }
   ],
   "source": [
    "pittsburgh_banks = fhfa_data[fhfa_data['bank'] == 'Pittsburgh']\n",
    "len(pittsburgh_banks)"
   ]
  },
  {
   "cell_type": "markdown",
   "id": "d4067cf2",
   "metadata": {},
   "source": [
    "# Banks in Dallas "
   ]
  },
  {
   "cell_type": "code",
   "execution_count": 26,
   "id": "0d4205cf",
   "metadata": {},
   "outputs": [
    {
     "data": {
      "text/plain": [
       "4593"
      ]
     },
     "execution_count": 26,
     "metadata": {},
     "output_type": "execute_result"
    }
   ],
   "source": [
    "dallas_banks = fhfa_data[fhfa_data['bank'] == 'Dallas']\n",
    "len(dallas_banks)"
   ]
  },
  {
   "cell_type": "markdown",
   "id": "a6fd7b95",
   "metadata": {},
   "source": [
    "# Banks in Boston  "
   ]
  },
  {
   "cell_type": "code",
   "execution_count": 27,
   "id": "087ff52e",
   "metadata": {},
   "outputs": [
    {
     "data": {
      "text/plain": [
       "1592"
      ]
     },
     "execution_count": 27,
     "metadata": {},
     "output_type": "execute_result"
    }
   ],
   "source": [
    "boston_banks = fhfa_data[fhfa_data['bank'] == 'Boston']\n",
    "len(boston_banks)"
   ]
  },
  {
   "cell_type": "markdown",
   "id": "ef71974f",
   "metadata": {},
   "source": [
    "# Banks in New York  "
   ]
  },
  {
   "cell_type": "code",
   "execution_count": 28,
   "id": "de1d2533",
   "metadata": {},
   "outputs": [
    {
     "data": {
      "text/plain": [
       "871"
      ]
     },
     "execution_count": 28,
     "metadata": {},
     "output_type": "execute_result"
    }
   ],
   "source": [
    "new_york_banks = fhfa_data[fhfa_data['bank'] == 'New York']\n",
    "len(new_york_banks)"
   ]
  },
  {
   "cell_type": "markdown",
   "id": "8f1de330",
   "metadata": {},
   "source": [
    "# Banks in San Francisco  "
   ]
  },
  {
   "cell_type": "code",
   "execution_count": 29,
   "id": "3f85d24e",
   "metadata": {},
   "outputs": [
    {
     "data": {
      "text/plain": [
       "21"
      ]
     },
     "execution_count": 29,
     "metadata": {},
     "output_type": "execute_result"
    }
   ],
   "source": [
    "san_francisco_banks = fhfa_data[fhfa_data['bank'] == 'San Francisco']\n",
    "len(san_francisco_banks)"
   ]
  },
  {
   "cell_type": "code",
   "execution_count": null,
   "id": "a1370ea8",
   "metadata": {},
   "outputs": [],
   "source": []
  }
 ],
 "metadata": {
  "kernelspec": {
   "display_name": "Python 3 (ipykernel)",
   "language": "python",
   "name": "python3"
  },
  "language_info": {
   "codemirror_mode": {
    "name": "ipython",
    "version": 3
   },
   "file_extension": ".py",
   "mimetype": "text/x-python",
   "name": "python",
   "nbconvert_exporter": "python",
   "pygments_lexer": "ipython3",
   "version": "3.9.13"
  }
 },
 "nbformat": 4,
 "nbformat_minor": 5
}
